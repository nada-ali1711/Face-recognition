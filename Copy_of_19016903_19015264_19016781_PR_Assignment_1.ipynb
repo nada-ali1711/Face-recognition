{
  "cells": [
    {
      "cell_type": "markdown",
      "metadata": {
        "id": "view-in-github",
        "colab_type": "text"
      },
      "source": [
        "<a href=\"https://colab.research.google.com/github/nada-ali1711/Face-recognition/blob/main/Copy_of_19016903_19015264_19016781_PR_Assignment_1.ipynb\" target=\"_parent\"><img src=\"https://colab.research.google.com/assets/colab-badge.svg\" alt=\"Open In Colab\"/></a>"
      ]
    },
    {
      "cell_type": "markdown",
      "metadata": {
        "id": "66xzf88Md25T"
      },
      "source": [
        "## **Libraries**"
      ]
    },
    {
      "cell_type": "markdown",
      "source": [
        "**Contributers:**\n",
        "1. Youssef Ahmed Saeed Zaki 19016903\n",
        "2. Nada Ali Hassan Ahmed 19016781\n",
        "3. Ahmed Adel Abudef 19015264"
      ],
      "metadata": {
        "id": "mK-nuaMNGtUn"
      }
    },
    {
      "cell_type": "code",
      "execution_count": null,
      "metadata": {
        "colab": {
          "base_uri": "https://localhost:8080/"
        },
        "id": "hbctihP68bQM",
        "outputId": "032d9b24-b0f8-480f-a751-bd072bcb9321"
      },
      "outputs": [
        {
          "output_type": "stream",
          "name": "stdout",
          "text": [
            "Looking in indexes: https://pypi.org/simple, https://us-python.pkg.dev/colab-wheels/public/simple/\n",
            "\u001b[31mERROR: Could not find a version that satisfies the requirement tensorflow==2.4 (from versions: 2.5.0, 2.5.1, 2.5.2, 2.5.3, 2.6.0rc0, 2.6.0rc1, 2.6.0rc2, 2.6.0, 2.6.1, 2.6.2, 2.6.3, 2.6.4, 2.6.5, 2.7.0rc0, 2.7.0rc1, 2.7.0, 2.7.1, 2.7.2, 2.7.3, 2.7.4, 2.8.0rc0, 2.8.0rc1, 2.8.0, 2.8.1, 2.8.2, 2.8.3, 2.8.4, 2.9.0rc0, 2.9.0rc1, 2.9.0rc2, 2.9.0, 2.9.1, 2.9.2, 2.9.3, 2.10.0rc0, 2.10.0rc1, 2.10.0rc2, 2.10.0rc3, 2.10.0, 2.10.1, 2.11.0rc0, 2.11.0rc1, 2.11.0rc2, 2.11.0, 2.12.0rc0, 2.12.0rc1)\u001b[0m\u001b[31m\n",
            "\u001b[0m\u001b[31mERROR: No matching distribution found for tensorflow==2.4\u001b[0m\u001b[31m\n",
            "\u001b[0m"
          ]
        }
      ],
      "source": [
        "!pip install tensorflow==2.4"
      ]
    },
    {
      "cell_type": "code",
      "execution_count": null,
      "metadata": {
        "colab": {
          "base_uri": "https://localhost:8080/"
        },
        "id": "otiSZkVPCD8S",
        "outputId": "3d6701ba-1dfe-460b-f9ea-ac7791cd1318"
      },
      "outputs": [
        {
          "output_type": "stream",
          "name": "stdout",
          "text": [
            "Looking in indexes: https://pypi.org/simple, https://us-python.pkg.dev/colab-wheels/public/simple/\n",
            "Requirement already satisfied: numpy in /usr/local/lib/python3.9/dist-packages (1.24.2)\n"
          ]
        }
      ],
      "source": [
        "!pip install -U numpy"
      ]
    },
    {
      "cell_type": "code",
      "execution_count": null,
      "metadata": {
        "colab": {
          "base_uri": "https://localhost:8080/"
        },
        "id": "N6xxMwlQ2-HD",
        "outputId": "4a95cc4b-b358-4c07-f2ce-96e39a95299c"
      },
      "outputs": [
        {
          "output_type": "stream",
          "name": "stdout",
          "text": [
            "Looking in indexes: https://pypi.org/simple, https://us-python.pkg.dev/colab-wheels/public/simple/\n",
            "Requirement already satisfied: scipy in /usr/local/lib/python3.9/dist-packages (1.10.1)\n",
            "Requirement already satisfied: numpy<1.27.0,>=1.19.5 in /usr/local/lib/python3.9/dist-packages (from scipy) (1.24.2)\n"
          ]
        }
      ],
      "source": [
        "!pip install scipy"
      ]
    },
    {
      "cell_type": "code",
      "execution_count": null,
      "metadata": {
        "colab": {
          "base_uri": "https://localhost:8080/"
        },
        "id": "YTNpybGfCWxb",
        "outputId": "d717abcb-2db3-440b-9b86-18aa60aa2ed5"
      },
      "outputs": [
        {
          "output_type": "stream",
          "name": "stdout",
          "text": [
            "Reading package lists... Done\n",
            "Building dependency tree       \n",
            "Reading state information... Done\n",
            "0 upgraded, 0 newly installed, 1 reinstalled, 0 to remove and 22 not upgraded.\n",
            "Need to get 4,748 B of archives.\n",
            "After this operation, 0 B of additional disk space will be used.\n",
            "Get:1 http://archive.ubuntu.com/ubuntu focal-updates/universe amd64 libopenblas-base amd64 0.3.8+ds-1ubuntu0.20.04.1 [4,748 B]\n",
            "Fetched 4,748 B in 0s (65.3 kB/s)\n",
            "(Reading database ... 128278 files and directories currently installed.)\n",
            "Preparing to unpack .../libopenblas-base_0.3.8+ds-1ubuntu0.20.04.1_amd64.deb ...\n",
            "Unpacking libopenblas-base:amd64 (0.3.8+ds-1ubuntu0.20.04.1) over (0.3.8+ds-1ubuntu0.20.04.1) ...\n",
            "Setting up libopenblas-base:amd64 (0.3.8+ds-1ubuntu0.20.04.1) ...\n"
          ]
        }
      ],
      "source": [
        "!apt-get install --reinstall libopenblas-base"
      ]
    },
    {
      "cell_type": "code",
      "execution_count": null,
      "metadata": {
        "colab": {
          "base_uri": "https://localhost:8080/"
        },
        "id": "MQ2R8sI3XM5s",
        "outputId": "bdf29715-dc15-47f8-fab1-9d6c4e4ced9a"
      },
      "outputs": [
        {
          "output_type": "stream",
          "name": "stdout",
          "text": [
            "/device:GPU:0\n"
          ]
        }
      ],
      "source": [
        "import numpy as np\n",
        "import os\n",
        "import cv2\n",
        "from google.colab import drive\n",
        "import scipy as scipy \n",
        "import matplotlib.pyplot as plt\n",
        "from sklearn.neighbors import KNeighborsClassifier\n",
        "from sklearn.metrics import accuracy_score\n",
        "from sklearn.model_selection import train_test_split\n",
        "from sklearn.preprocessing import StandardScaler\n",
        "from sklearn.discriminant_analysis import LinearDiscriminantAnalysis as LDA\n",
        "import tensorflow as tf\n",
        "print(tf.test.gpu_device_name())"
      ]
    },
    {
      "cell_type": "markdown",
      "metadata": {
        "id": "KF5g3Vu8c-fl"
      },
      "source": [
        "## **Uploading**\n",
        "\n",
        "---\n",
        "\n",
        "\n",
        "First, We need to upload the **data** to colab and one of the famous ways to do that is by:\n",
        "\n",
        ">   * Upload the data to your drive \n",
        ">   * Mount the drive to colab which was done by the **following cell**"
      ]
    },
    {
      "cell_type": "code",
      "execution_count": null,
      "metadata": {
        "colab": {
          "base_uri": "https://localhost:8080/"
        },
        "id": "Eux90ExVRF0F",
        "outputId": "75b38edb-7954-419b-e9e1-a179c851dd83"
      },
      "outputs": [
        {
          "output_type": "stream",
          "name": "stdout",
          "text": [
            "Drive already mounted at /content/drive; to attempt to forcibly remount, call drive.mount(\"/content/drive\", force_remount=True).\n"
          ]
        }
      ],
      "source": [
        "drive.mount('/content/drive')\n"
      ]
    },
    {
      "cell_type": "markdown",
      "metadata": {
        "id": "39TgxAeLeQxh"
      },
      "source": [
        "## **Reading and Pre-processing**\n",
        "\n",
        "---\n",
        "\n",
        "\n",
        "\n",
        "\n",
        "> Traverse all images, read them using cv2, convert each one to a vector of 10304 values, stack them to the data matrix and extract the labels for each image in the same time.\n",
        "\n"
      ]
    },
    {
      "cell_type": "code",
      "execution_count": null,
      "metadata": {
        "id": "eL-yW_dnoSEE"
      },
      "outputs": [],
      "source": [
        "IMG_WIDTH = 92\n",
        "IMG_HEIGHT = 112\n",
        "NUMBER_OF_FEATURES = IMG_WIDTH * IMG_HEIGHT    "
      ]
    },
    {
      "cell_type": "code",
      "execution_count": null,
      "metadata": {
        "id": "aP2T8Fm_XPsW"
      },
      "outputs": [],
      "source": [
        "def loadFaces(): \n",
        "  NUMBER_OF_CLASSES = 40\n",
        "  NUMBER_OF_SAMPLES = NUMBER_OF_CLASSES * 10 \n",
        "  DATA_ROOT_PATH = \"/content/drive/MyDrive/Cached files/FacesProblem\"\n",
        "\n",
        "  data_matrix = np.zeros((NUMBER_OF_SAMPLES, NUMBER_OF_FEATURES), dtype=np.float32)\n",
        "  labels = np.zeros(NUMBER_OF_SAMPLES, dtype=np.int32)\n",
        "\n",
        "  for s_num in range(1, 41):\n",
        "      s_folder = f\"{DATA_ROOT_PATH}/s{s_num}\"\n",
        "      for img_num in range(1, 11):\n",
        "          img_path = os.path.join(s_folder, f\"{img_num}.pgm\")\n",
        "          \n",
        "          img = cv2.imread(img_path, cv2.IMREAD_GRAYSCALE)\n",
        "          img = cv2.resize(img, (IMG_WIDTH, IMG_HEIGHT))\n",
        "          \n",
        "          img_vector = img.flatten().astype(np.float32)\n",
        "          data_matrix[(s_num-1)*10 + img_num-1] = img_vector\n",
        "          \n",
        "          labels[(s_num-1)*10 + img_num-1] = s_num\n",
        "  scaler = StandardScaler()\n",
        "  data_matrix = scaler.fit_transform(data_matrix)\n",
        "  print(\"Data Matrix:\\n\", data_matrix, \"\\nData Matrix Shape: \", data_matrix.shape)\n",
        "  print(\"Labels Vector:\\n\", labels)\n",
        "  return data_matrix, labels"
      ]
    },
    {
      "cell_type": "code",
      "execution_count": null,
      "metadata": {
        "id": "IZY4PO6ROQhq"
      },
      "outputs": [],
      "source": [
        "def loadFacesNonFaces(nonfaces_num=100,faces_num=100): \n",
        "  NUMBER_OF_CLASSES = 2\n",
        "  NUMBER_OF_SAMPLES = nonfaces_num + faces_num\n",
        "  FACES_ROOT_PATH = \"/content/drive/MyDrive/Cached files/FacesNonFacesProblem/faces\"\n",
        "  NONFACES_ROOT_PATH = \"/content/drive/MyDrive/Cached files/FacesNonFacesProblem/nonfaces\"\n",
        "  paths = [NONFACES_ROOT_PATH,FACES_ROOT_PATH]\n",
        "  data_matrix = np.zeros((NUMBER_OF_SAMPLES, NUMBER_OF_FEATURES), dtype=np.float32)\n",
        "  labels = np.zeros(NUMBER_OF_SAMPLES, dtype=np.int32)\n",
        "\n",
        "  for isFace in range(2):\n",
        "    for img_num, filename in enumerate(os.listdir(paths[isFace])):\n",
        "      if img_num == faces_num and isFace:\n",
        "        break\n",
        "      img_idx = isFace*nonfaces_num + img_num\n",
        "      img_path = paths[isFace] + \"/\" + filename\n",
        "      img = cv2.imread(img_path, cv2.IMREAD_GRAYSCALE)      \n",
        "      img_vector = img.flatten().astype(np.float32)\n",
        "      data_matrix[img_idx] = img_vector\n",
        "      labels[img_idx] = isFace + 1\n",
        "\n",
        "  scaler = StandardScaler()\n",
        "  data_matrix = scaler.fit_transform(data_matrix)\n",
        "  print(\"Data Matrix:\\n\", data_matrix, \"\\nData Matrix Shape: \", data_matrix.shape)\n",
        "  print(\"Labels Vector:\\n\", labels)\n",
        "  return data_matrix, labels"
      ]
    },
    {
      "cell_type": "markdown",
      "metadata": {
        "id": "-weIZ9OzIzeZ"
      },
      "source": [
        "## **Splitting**\n",
        "\n",
        "---\n",
        "\n",
        "\n",
        "### We used two approaches here as following:\n",
        "\n",
        "\n",
        "1.   split the data as even row for training and odd rows for testing this guarantees that there's equally sized samples from each subject in the training and testing data.\n",
        "2.   split the data according to a test ration (ex: 0.7) which will get seven images fo testing and leave three images for trainig from each subject which consists of 10 images.\n",
        "\n"
      ]
    },
    {
      "cell_type": "code",
      "execution_count": null,
      "metadata": {
        "id": "BY4zlcdymgMD"
      },
      "outputs": [],
      "source": [
        "def even_odd_split(data_matrix, labels):\n",
        "    x_train = data_matrix[::2, :]\n",
        "    x_test = data_matrix[1::2, :]\n",
        "    y_train = labels[::2]\n",
        "    y_test = labels[1::2]\n",
        "    print(\"X Train Samples:\\n\", x_train.shape[0], \"\\nX Test Samples:\\n\", x_test.shape[0])\n",
        "    return x_train,x_test,y_train,y_test"
      ]
    },
    {
      "cell_type": "code",
      "execution_count": null,
      "metadata": {
        "id": "SdvQrn6FIvmi"
      },
      "outputs": [],
      "source": [
        "def split(test_ratio, data_matrix, labels):\n",
        "    x_train = data_matrix[0:10, :][:(int)(test_ratio*10), :]\n",
        "    x_test = data_matrix[0:10, :][-(int)((1-test_ratio)*10):, :]\n",
        "    y_train = labels[:10][:(int)(test_ratio*10)]\n",
        "    y_test =  labels[:10][-(int)((1-test_ratio)*10):]\n",
        "    \n",
        "    for i in range(10, len(data_matrix), 10):\n",
        "      samples = data_matrix[i:i+10, :]\n",
        "      targets = labels[i:i+10]\n",
        "      x_train = np.concatenate([x_train, samples[:(int)(test_ratio*10), :]])\n",
        "      x_test = np.concatenate([x_test, samples[-(int)((1-test_ratio)*10):, :]])\n",
        "      y_train = np.concatenate([y_train, targets[:(int)(test_ratio*10)]])\n",
        "      y_test = np.concatenate([y_test, targets[-(int)((1-test_ratio)*10):]])\n",
        "\n",
        "    print(\"y Train Samples:\\n\", y_train, \"\\ny Test Samples:\\n\", y_test)\n",
        "    return x_train,x_test,y_train,y_test\n",
        "  "
      ]
    },
    {
      "cell_type": "markdown",
      "metadata": {
        "id": "Zk5hgZPPKvF7"
      },
      "source": [
        "## **PCA**\n",
        "\n",
        "---\n",
        "\n",
        "\n",
        "Implementing PCA to reduce the dimensionality of data. \n",
        "calculating the number of dimensions required to retain alpha as following:\n",
        "> The eigenvalues are sorted in descending order, and the function loops through the eigenvalues, summing them until the proportion of variance exceeds alpha.\n",
        "> It then trains a K-nearest neighbors (KNN) classifier with k=1 and computes the accuracy."
      ]
    },
    {
      "cell_type": "code",
      "execution_count": null,
      "metadata": {
        "id": "DCtXOyRCKspf"
      },
      "outputs": [],
      "source": [
        "def _PCAfitEigon(data, alpha):\n",
        "    _mean = np.mean(data,axis=0)\n",
        "    Z = data - _mean\n",
        "    covarianceMatrix = np.cov(np.transpose(Z))\n",
        "    # compute eigenvalues and eigenvectors\n",
        "    eigValues, eigVectors = scipy.linalg.eigh(covarianceMatrix)\n",
        "    # calculate required no of dimensions according to alpha\n",
        "    eigValuesSum = sum(eigValues);_sum = 0;_r = 0\n",
        "    while (_sum/float(eigValuesSum)) < alpha:\n",
        "        _sum += eigValues[-_r-1];_r+=1\n",
        "    return _mean,[[eigVectors[i][-j-1] for j in range(_r)] for i in range(len(covarianceMatrix))]\n",
        "\n",
        "def _project(centeredData,reducedBasis):\n",
        "  # return projected data\n",
        "  return centeredData @ reducedBasis\n",
        "\n",
        "def runPCA(train,train_lables,test,test_lables,PCAfitter=_PCAfitEigon):\n",
        "  alpha = [0.8,0.85,0.9,0.95];best=[]\n",
        "  for i in alpha:\n",
        "    overalMean,u = _PCAfitEigon(train,i)\n",
        "    print(\"U:\\n\", u)\n",
        "    print(\"data:\\n\", train-overalMean)\n",
        "    projectedData = _project(train-overalMean,u)\n",
        "    projectedTest = _project(test-overalMean,u)\n",
        "    knn = KNeighborsClassifier(n_neighbors=1)\n",
        "    knn.fit(projectedData, train_lables)\n",
        "    prediction = knn.predict(projectedTest)\n",
        "    accuracy = accuracy_score(y_pred=prediction, y_true=test_lables)\n",
        "    best.append(accuracy)\n",
        "    \n",
        "  print('for alpha ',i,' best accuracy ',best.sort(reverse=True)[0],' for k = 1')\n",
        "    \n",
        "  return np.amax(best);"
      ]
    },
    {
      "cell_type": "markdown",
      "metadata": {
        "id": "j_VBLzxjK0ye"
      },
      "source": [
        "## **LDA**\n",
        "\n",
        "---\n",
        "\n",
        "\n",
        "In this particular process, we apply a multi-class Linear Discriminant Analysis (LDA) pseudocode to a given dataset. The goal of this step is to find a reconstruction matrix that can be used to project the data onto a lower dimensional space while still maintaining important class-specific information.\n",
        "\n",
        "\n",
        "\n",
        "\n",
        "> Once the reconstruction matrix is obtained, it is used to project the data onto a 39-dimensional space, where the classes are compact and well-separated. This is accomplished by maximizing the distance between the projected data points of different classes and minimizing the distance between the projected data points of the same class."
      ]
    },
    {
      "cell_type": "code",
      "execution_count": null,
      "metadata": {
        "id": "4Um--ZPJ-Q3b"
      },
      "outputs": [],
      "source": [
        "def runLDA(x, y,eigonCount):\n",
        "  mu = []\n",
        "  num_of_classes = len(set(y))\n",
        "  global_mu = np.mean(x, axis=0)\n",
        "  for i in range(num_of_classes):\n",
        "    x_class_i = x[y==i+1]\n",
        "    mu.append(np.mean(x_class_i, axis=0))\n",
        "\n",
        "  sb = np.zeros((x.shape[1], x.shape[1]))\n",
        "  for i in range(num_of_classes):\n",
        "    n_class_i = x[y==i+1].shape[0]\n",
        "    mu_class_i = mu[i]\n",
        "    sb += n_class_i * ((mu_class_i-global_mu) @ (mu_class_i-global_mu).T)\n",
        "  print(\"First row of Sb\\n\", sb[0,:])\n",
        "  s = np.zeros((x.shape[1], x.shape[1]))\n",
        "  for i in range(num_of_classes):\n",
        "      x_class_i = x[y==i+1]\n",
        "      mu_class_i = mu[i]\n",
        "      s += np.cov((x_class_i - mu_class_i).T) \n",
        "  \n",
        "  print(\"First row of S\\n\", s[0,:])\n",
        "\n",
        "  eigen_values, eigen_vectors = scipy.linalg.eigh(scipy.linalg.pinv(s) @ sb) \n",
        "  indices = np.argsort(eigen_values)[::-1]\n",
        "  sorted_eigenvectors = eigen_vectors[:, indices]\n",
        "  dominant_eigen_vectors = sorted_eigenvectors[:, :eigonCount]\n",
        "  real_part_eigen_vectors = np.real(dominant_eigen_vectors)\n",
        "  print(\"Dominant Eigon Vectors Count:\", real_part_eigen_vectors.shape[0])\n",
        "  print(\"First row of eigen vectors\\n\", real_part_eigen_vectors[0,:])\n",
        "\n",
        "  return (real_part_eigen_vectors)"
      ]
    },
    {
      "cell_type": "markdown",
      "metadata": {
        "id": "ONnFypi8Y1z1"
      },
      "source": [
        "## **Classifier Tuning**\n",
        "\n",
        "---\n",
        "\n",
        "\n",
        "In this particular methodology, we utilize a K-Nearest Neighbors (KNN) classification algorithm to analyze a given dataset. Prior to classification, we perform a dimensionality reduction step on the dataset to eliminate features that are not relevant or significant. After this, the KNN algorithm is applied to the reduced dataset to build a model for classification.\n",
        "\n",
        "> Once the model is trained, we use it to predict the outcomes of new or unseen test data based on their similarities to the previously classified data. The predictions generated by the model are then compared with the actual outcomes of the test data to evaluate the accuracy of the model.\n",
        "\n"
      ]
    },
    {
      "cell_type": "code",
      "execution_count": null,
      "metadata": {
        "id": "GAXq3YWQVnZD"
      },
      "outputs": [],
      "source": [
        "def classTuning(x_tr,y_tr,x_ts,y_ts,oddNumLimit=9,step=2):\n",
        "  accuracy = []\n",
        "  for i in range(1,oddNumLimit,step):\n",
        "    knn = KNeighborsClassifier(n_neighbors=i)\n",
        "    knn.fit(x_tr, y_tr)\n",
        "    y_predict = knn.predict(x_ts)\n",
        "    accuracy.append(accuracy_score(y_pred=y_predict, y_true=y_ts))\n",
        "    print(\"Accuracy Score when Knn =\",i,\":\\n\", accuracy[(int)((i - 1)/step)])\n",
        "  plt.plot([i for i in range(1,oddNumLimit,step)], accuracy)\n",
        "  plt.xlabel('K value')\n",
        "  plt.ylabel('Accuracy')\n",
        "  plt.title('KNN Classification Accuracy')\n",
        "  plt.legend()\n",
        "  plt.show()\n",
        "  return np.max(accuracy)"
      ]
    },
    {
      "cell_type": "markdown",
      "metadata": {
        "id": "i-ekmZ_ei6p2"
      },
      "source": [
        "## **Sub Drivers**\n",
        "The following drivers runs **PCA** and **LDA** and do projection then run the tuning method on the projected data  "
      ]
    },
    {
      "cell_type": "code",
      "execution_count": null,
      "metadata": {
        "id": "T9ZNjHUix5N7"
      },
      "outputs": [],
      "source": [
        "def execPCA(data_matrix, x_train, y_train, x_test, y_test,tuningLimit=9,PCAfitter=_PCAfitEigon):\n",
        "  alpha = [0.8,0.85,0.9,0.95]\n",
        "  best=[]\n",
        "  for i in alpha:\n",
        "    m, U = PCAfitter(data_matrix, i)\n",
        "    x_train_reduced = x_train @ U\n",
        "    x_test_reduced = x_test @ U\n",
        "    print(\"PCA Tuning for Alpha = \", i, \": \")\n",
        "    accuracy = classTuning(x_train_reduced, y_train, x_test_reduced, y_test,tuningLimit)\n",
        "    best.append(accuracy)\n",
        "  \n",
        "  print('best accuracy ',np.max(best),' for alpha =', alpha[best.index(np.max(best))])"
      ]
    },
    {
      "cell_type": "code",
      "execution_count": null,
      "metadata": {
        "id": "xnbP3WxvyKx4"
      },
      "outputs": [],
      "source": [
        "def execLDA(data_matrix, labels, x_train, y_train, x_test, y_test,eigonCount,tuningLimit=9):\n",
        "  U = runLDA(data_matrix, labels,eigonCount)\n",
        "  x_train_reduced = x_train @ U\n",
        "  x_test_reduced = x_test @ U\n",
        "  print(\"LDA Tuning :\")\n",
        "  classTuning(x_train_reduced,y_train,x_test_reduced,y_test,tuningLimit)"
      ]
    },
    {
      "cell_type": "markdown",
      "metadata": {
        "id": "9-rlnW0yXXwb"
      },
      "source": [
        "## **Main Driver**"
      ]
    },
    {
      "cell_type": "markdown",
      "metadata": {
        "id": "yD96HTRS4Z7z"
      },
      "source": [
        "First, we have the faces problem where our model recognizes to which label of the 40 loaded labels, the test face samples belong."
      ]
    },
    {
      "cell_type": "code",
      "execution_count": null,
      "metadata": {
        "id": "PLRAErp4XUqh",
        "colab": {
          "base_uri": "https://localhost:8080/",
          "height": 1000
        },
        "outputId": "3a66c19a-4e0d-4fd9-ad74-618eac901e71"
      },
      "outputs": [
        {
          "output_type": "stream",
          "name": "stdout",
          "text": [
            "Data Matrix:\n",
            " [[-1.05126    -1.0250226  -1.150785   ... -0.6368793  -0.67224365\n",
            "  -0.6649038 ]\n",
            " [-0.7159075  -0.71676624 -0.6727558  ... -0.95670485 -0.94235665\n",
            "  -0.9378948 ]\n",
            " [-1.3027742  -1.1651392  -0.92583    ... -1.0206699  -1.122432\n",
            "  -1.0516411 ]\n",
            " ...\n",
            " [ 1.1005846   0.93660915  1.0706447  ... -0.87141806 -0.8298096\n",
            "  -0.8013993 ]\n",
            " [ 0.9329085   0.96463245  0.9581673  ...  0.25863227  0.40820822\n",
            "   0.22231707]\n",
            " [ 1.1005846   1.0767257   1.0706447  ... -0.87141806 -0.91984725\n",
            "  -0.9378948 ]] \n",
            "Data Matrix Shape:  (400, 10304)\n",
            "Labels Vector:\n",
            " [ 1  1  1  1  1  1  1  1  1  1  2  2  2  2  2  2  2  2  2  2  3  3  3  3\n",
            "  3  3  3  3  3  3  4  4  4  4  4  4  4  4  4  4  5  5  5  5  5  5  5  5\n",
            "  5  5  6  6  6  6  6  6  6  6  6  6  7  7  7  7  7  7  7  7  7  7  8  8\n",
            "  8  8  8  8  8  8  8  8  9  9  9  9  9  9  9  9  9  9 10 10 10 10 10 10\n",
            " 10 10 10 10 11 11 11 11 11 11 11 11 11 11 12 12 12 12 12 12 12 12 12 12\n",
            " 13 13 13 13 13 13 13 13 13 13 14 14 14 14 14 14 14 14 14 14 15 15 15 15\n",
            " 15 15 15 15 15 15 16 16 16 16 16 16 16 16 16 16 17 17 17 17 17 17 17 17\n",
            " 17 17 18 18 18 18 18 18 18 18 18 18 19 19 19 19 19 19 19 19 19 19 20 20\n",
            " 20 20 20 20 20 20 20 20 21 21 21 21 21 21 21 21 21 21 22 22 22 22 22 22\n",
            " 22 22 22 22 23 23 23 23 23 23 23 23 23 23 24 24 24 24 24 24 24 24 24 24\n",
            " 25 25 25 25 25 25 25 25 25 25 26 26 26 26 26 26 26 26 26 26 27 27 27 27\n",
            " 27 27 27 27 27 27 28 28 28 28 28 28 28 28 28 28 29 29 29 29 29 29 29 29\n",
            " 29 29 30 30 30 30 30 30 30 30 30 30 31 31 31 31 31 31 31 31 31 31 32 32\n",
            " 32 32 32 32 32 32 32 32 33 33 33 33 33 33 33 33 33 33 34 34 34 34 34 34\n",
            " 34 34 34 34 35 35 35 35 35 35 35 35 35 35 36 36 36 36 36 36 36 36 36 36\n",
            " 37 37 37 37 37 37 37 37 37 37 38 38 38 38 38 38 38 38 38 38 39 39 39 39\n",
            " 39 39 39 39 39 39 40 40 40 40 40 40 40 40 40 40]\n",
            "X Train Samples:\n",
            " 200 \n",
            "X Test Samples:\n",
            " 200\n",
            "PCA Tuning for Alpha =  0.8 : \n",
            "Accuracy Score when Knn = 1 :\n",
            " 0.945\n",
            "Accuracy Score when Knn = 3 :\n",
            " 0.875\n",
            "Accuracy Score when Knn = 5 :\n",
            " 0.855\n",
            "Accuracy Score when Knn = 7 :\n",
            " 0.79\n"
          ]
        },
        {
          "output_type": "stream",
          "name": "stderr",
          "text": [
            "WARNING:matplotlib.legend:No artists with labels found to put in legend.  Note that artists whose label start with an underscore are ignored when legend() is called with no argument.\n"
          ]
        },
        {
          "output_type": "display_data",
          "data": {
            "text/plain": [
              "<Figure size 432x288 with 1 Axes>"
            ],
            "image/png": "[encoded data removed]"
          },
          "metadata": {
            "needs_background": "light"
          }
        },
        {
          "output_type": "stream",
          "name": "stderr",
          "text": [
            "WARNING:matplotlib.legend:No artists with labels found to put in legend.  Note that artists whose label start with an underscore are ignored when legend() is called with no argument.\n"
          ]
        },
        {
          "output_type": "stream",
          "name": "stdout",
          "text": [
            "PCA Tuning for Alpha =  0.85 : \n",
            "Accuracy Score when Knn = 1 :\n",
            " 0.945\n",
            "Accuracy Score when Knn = 3 :\n",
            " 0.89\n",
            "Accuracy Score when Knn = 5 :\n",
            " 0.845\n",
            "Accuracy Score when Knn = 7 :\n",
            " 0.755\n"
          ]
        },
        {
          "output_type": "display_data",
          "data": {
            "text/plain": [
              "<Figure size 432x288 with 1 Axes>"
            ],
            "image/png": "[encoded data removed]"
          },
          "metadata": {
            "needs_background": "light"
          }
        },
        {
          "output_type": "stream",
          "name": "stderr",
          "text": [
            "WARNING:matplotlib.legend:No artists with labels found to put in legend.  Note that artists whose label start with an underscore are ignored when legend() is called with no argument.\n"
          ]
        },
        {
          "output_type": "stream",
          "name": "stdout",
          "text": [
            "PCA Tuning for Alpha =  0.9 : \n",
            "Accuracy Score when Knn = 1 :\n",
            " 0.95\n",
            "Accuracy Score when Knn = 3 :\n",
            " 0.895\n",
            "Accuracy Score when Knn = 5 :\n",
            " 0.84\n",
            "Accuracy Score when Knn = 7 :\n",
            " 0.755\n"
          ]
        },
        {
          "output_type": "display_data",
          "data": {
            "text/plain": [
              "<Figure size 432x288 with 1 Axes>"
            ],
            "image/png": "[encoded data removed]"
          },
          "metadata": {
            "needs_background": "light"
          }
        },
        {
          "output_type": "stream",
          "name": "stderr",
          "text": [
            "WARNING:matplotlib.legend:No artists with labels found to put in legend.  Note that artists whose label start with an underscore are ignored when legend() is called with no argument.\n"
          ]
        },
        {
          "output_type": "stream",
          "name": "stdout",
          "text": [
            "PCA Tuning for Alpha =  0.95 : \n",
            "Accuracy Score when Knn = 1 :\n",
            " 0.94\n",
            "Accuracy Score when Knn = 3 :\n",
            " 0.88\n",
            "Accuracy Score when Knn = 5 :\n",
            " 0.84\n",
            "Accuracy Score when Knn = 7 :\n",
            " 0.755\n"
          ]
        },
        {
          "output_type": "display_data",
          "data": {
            "text/plain": [
              "<Figure size 432x288 with 1 Axes>"
            ],
            "image/png": "[encoded data removed]"
          },
          "metadata": {
            "needs_background": "light"
          }
        },
        {
          "output_type": "stream",
          "name": "stdout",
          "text": [
            "best accuracy  0.95  for alpha = 0.9\n",
            "First row of Sb\n",
            " [2396490.40039062 2396490.40039062 2396490.40039062 ... 2396490.40039062\n",
            " 2396490.40039062 2396490.40039062]\n",
            "First row of S\n",
            " [5.37142111 5.23854802 5.18057539 ... 0.26156132 0.1972977  0.54414663]\n",
            "Dominant Eigon Vectors Count: 10304\n",
            "First row of eigen vectors\n",
            " [ 0.00964623 -0.00693833 -0.00881531 -0.01162553  0.00905414 -0.00663099\n",
            " -0.01238841  0.00661932 -0.01243986  0.01079793 -0.00692591  0.00850252\n",
            " -0.00505301 -0.00657906  0.00844795  0.00273171  0.00492774  0.00771955\n",
            "  0.01728638 -0.0095598   0.00173323 -0.00852128  0.00302595 -0.00812613\n",
            "  0.00554254 -0.00531714 -0.00712357  0.00484205  0.01501218  0.00766702\n",
            " -0.01156447  0.01358395  0.00379827  0.01563214  0.00708929  0.00526043\n",
            " -0.00576453  0.01515297 -0.00532814]\n",
            "LDA Tuning :\n",
            "Accuracy Score when Knn = 1 :\n",
            " 0.925\n"
          ]
        },
        {
          "output_type": "stream",
          "name": "stderr",
          "text": [
            "WARNING:matplotlib.legend:No artists with labels found to put in legend.  Note that artists whose label start with an underscore are ignored when legend() is called with no argument.\n"
          ]
        },
        {
          "output_type": "stream",
          "name": "stdout",
          "text": [
            "Accuracy Score when Knn = 3 :\n",
            " 0.865\n",
            "Accuracy Score when Knn = 5 :\n",
            " 0.755\n",
            "Accuracy Score when Knn = 7 :\n",
            " 0.71\n"
          ]
        },
        {
          "output_type": "display_data",
          "data": {
            "text/plain": [
              "<Figure size 432x288 with 1 Axes>"
            ],
            "image/png": "[encoded data removed]"
          },
          "metadata": {
            "needs_background": "light"
          }
        }
      ],
      "source": [
        "#Faces Problem\n",
        "data_matrix, labels = loadFaces()\n",
        "x_train, x_test, y_train, y_test = even_odd_split(data_matrix, labels)\n",
        "\n",
        "execPCA(data_matrix, x_train, y_train, x_test, y_test)\n",
        "\n",
        "execLDA(data_matrix, labels, x_train, y_train, x_test, y_test,39)"
      ]
    },
    {
      "cell_type": "markdown",
      "metadata": {
        "id": "XT63GGC97Lhp"
      },
      "source": [
        "Now, the nonfaces-faces classification problem. Binary classification model that detects whether test sample is a face or not a face."
      ]
    },
    {
      "cell_type": "code",
      "execution_count": null,
      "metadata": {
        "colab": {
          "base_uri": "https://localhost:8080/",
          "height": 1000
        },
        "id": "yQXpDckpYET-",
        "outputId": "34e10491-fd35-4e06-d6e1-613f431c84c9"
      },
      "outputs": [
        {
          "metadata": {
            "tags": null
          },
          "name": "stdout",
          "output_type": "stream",
          "text": [
            "Data Matrix:\n",
            " [[ 1.9004946   1.924512    1.878938   ...  2.4223938   2.4838204\n",
            "   2.3291805 ]\n",
            " [ 1.7836626   1.8061715   1.7627524  ...  1.3000059   1.5538454\n",
            "   2.3435595 ]\n",
            " [ 0.11880374  0.09023461  0.20877089 ...  1.0053791   0.9100164\n",
            "   0.9775556 ]\n",
            " ...\n",
            " [ 0.20642789  0.17898998  0.1797245  ... -0.88865066 -0.82116807\n",
            "  -0.57537526]\n",
            " [ 0.13340776 -0.07248354  0.0054462  ... -0.36954623 -0.20595373\n",
            "  -0.27341646]\n",
            " [ 0.17721984  0.14940485  0.1797245  ... -0.90268046 -0.86408997\n",
            "  -0.8198181 ]] \n",
            "Data Matrix Shape:  (200, 10304)\n",
            "Labels Vector:\n",
            " [1 1 1 1 1 1 1 1 1 1 1 1 1 1 1 1 1 1 1 1 1 1 1 1 1 1 1 1 1 1 1 1 1 1 1 1 1\n",
            " 1 1 1 1 1 1 1 1 1 1 1 1 1 1 1 1 1 1 1 1 1 1 1 1 1 1 1 1 1 1 1 1 1 1 1 1 1\n",
            " 1 1 1 1 1 1 1 1 1 1 1 1 1 1 1 1 1 1 1 1 1 1 1 1 1 1 2 2 2 2 2 2 2 2 2 2 2\n",
            " 2 2 2 2 2 2 2 2 2 2 2 2 2 2 2 2 2 2 2 2 2 2 2 2 2 2 2 2 2 2 2 2 2 2 2 2 2\n",
            " 2 2 2 2 2 2 2 2 2 2 2 2 2 2 2 2 2 2 2 2 2 2 2 2 2 2 2 2 2 2 2 2 2 2 2 2 2\n",
            " 2 2 2 2 2 2 2 2 2 2 2 2 2 2 2]\n",
            "X Train Samples:\n",
            " 100 \n",
            "X Test Samples:\n",
            " 100\n",
            "First row of Sb\n",
            " [228875.34179688 228875.34179688 228875.34179688 ... 228875.34179688\n",
            " 228875.34179688 228875.34179688]\n",
            "First row of S\n",
            " [1.82864979 1.78604575 1.76392289 ... 1.08578594 1.1141448  1.11691466]\n",
            "Dominant Eigon Vectors Count: 10304\n",
            "First row of eigen vectors\n",
            " [ 0.01007283  0.00806932  0.00779125  0.00650014  0.00818279 -0.00530377\n",
            "  0.00532808 -0.00173284 -0.00353855 -0.00353127  0.00158206  0.00762324\n",
            "  0.00583587 -0.00810355 -0.0019449   0.0014046  -0.00986402 -0.01964577\n",
            "  0.00526761 -0.00115443 -0.00162105  0.00542739  0.01968098 -0.0058857\n",
            "  0.00150945  0.00425949 -0.00394635  0.00215908  0.00960582  0.00586429\n",
            "  0.00311732 -0.00782004  0.00544612 -0.00866488  0.00273375 -0.00309041\n",
            " -0.01196908 -0.00503659  0.00502411]\n",
            "LDA Tuning :\n",
            "Accuracy Score when Knn = 1 :\n",
            " 0.97\n",
            "Accuracy Score when Knn = 3 :\n",
            " 0.95\n",
            "Accuracy Score when Knn = 5 :\n",
            " 0.94\n",
            "Accuracy Score when Knn = 7 :\n",
            " 0.92\n"
          ]
        },
        {
          "metadata": {
            "tags": null
          },
          "name": "stderr",
          "output_type": "stream",
          "text": [
            "WARNING:matplotlib.legend:No artists with labels found to put in legend.  Note that artists whose label start with an underscore are ignored when legend() is called with no argument.\n"
          ]
        },
        {
          "data": {
            "image/png": "[encoded data removed]",
            "text/plain": [
              "<Figure size 432x288 with 1 Axes>"
            ]
          },
          "metadata": {},
          "output_type": "display_data"
        },
        {
          "metadata": {
            "tags": null
          },
          "name": "stdout",
          "output_type": "stream",
          "text": [
            "Data Matrix:\n",
            " [[ 1.9929537   2.0226438   1.9900023  ...  2.6168647   2.7221673\n",
            "   2.504141  ]\n",
            " [ 1.8708998   1.8986979   1.8675354  ...  1.4284313   1.726875\n",
            "   2.5192926 ]\n",
            " [ 0.13163175  0.10148079  0.22954042 ...  1.1164674   1.0378263\n",
            "   1.0798893 ]\n",
            " ...\n",
            " [ 0.22317217  0.19444029  0.19892369 ... -0.8890144  -0.8149488\n",
            "  -0.5564852 ]\n",
            " [ 0.14688848 -0.06894496  0.01522332 ... -0.33936384 -0.15652463\n",
            "  -0.23830123]\n",
            " [ 0.1926587   0.16345379  0.19892369 ... -0.9038698  -0.8608854\n",
            "  -0.81406265]] \n",
            "Data Matrix Shape:  (180, 10304)\n",
            "Labels Vector:\n",
            " [1 1 1 1 1 1 1 1 1 1 1 1 1 1 1 1 1 1 1 1 1 1 1 1 1 1 1 1 1 1 1 1 1 1 1 1 1\n",
            " 1 1 1 1 1 1 1 1 1 1 1 1 1 1 1 1 1 1 1 1 1 1 1 1 1 1 1 1 1 1 1 1 1 1 1 1 1\n",
            " 1 1 1 1 1 1 2 2 2 2 2 2 2 2 2 2 2 2 2 2 2 2 2 2 2 2 2 2 2 2 2 2 2 2 2 2 2\n",
            " 2 2 2 2 2 2 2 2 2 2 2 2 2 2 2 2 2 2 2 2 2 2 2 2 2 2 2 2 2 2 2 2 2 2 2 2 2\n",
            " 2 2 2 2 2 2 2 2 2 2 2 2 2 2 2 2 2 2 2 2 2 2 2 2 2 2 2 2 2 2 2 2]\n",
            "X Train Samples:\n",
            " 90 \n",
            "X Test Samples:\n",
            " 90\n",
            "Nonfaces : faces =  4 : 5\n",
            "First row of Sb\n",
            " [233098.0078125 233098.0078125 233098.0078125 ... 233098.0078125\n",
            " 233098.0078125 233098.0078125]\n",
            "First row of S\n",
            " [1.91837873 1.8639877  1.83579387 ... 1.11084334 1.1610995  1.1304226 ]\n",
            "Dominant Eigon Vectors Count: 10304\n",
            "First row of eigen vectors\n",
            " [-0.01017925  0.00807799  0.0081955  -0.00533402  0.00925737 -0.00583593\n",
            "  0.00653858  0.00234756 -0.0023916   0.00588088  0.00160919 -0.01204705\n",
            "  0.00718034  0.01400135  0.0037074  -0.02704133 -0.0055322  -0.00780612\n",
            " -0.00121693  0.00041463  0.0036161  -0.0048042   0.01422944  0.00375758\n",
            " -0.000304    0.00463029 -0.00469618  0.0029076   0.01032262  0.00529652\n",
            " -0.00111941 -0.00743406 -0.00846725  0.0091001  -0.00391904  0.00296577\n",
            "  0.01121873  0.00467415 -0.00557961]\n",
            "LDA Tuning :\n",
            "Accuracy Score when Knn = 1 :\n",
            " 0.9666666666666667\n",
            "Accuracy Score when Knn = 3 :\n",
            " 0.9555555555555556\n",
            "Accuracy Score when Knn = 5 :\n",
            " 0.9555555555555556\n"
          ]
        },
        {
          "metadata": {
            "tags": null
          },
          "name": "stderr",
          "output_type": "stream",
          "text": [
            "WARNING:matplotlib.legend:No artists with labels found to put in legend.  Note that artists whose label start with an underscore are ignored when legend() is called with no argument.\n"
          ]
        },
        {
          "metadata": {
            "tags": null
          },
          "name": "stdout",
          "output_type": "stream",
          "text": [
            "Accuracy Score when Knn = 7 :\n",
            " 0.9555555555555556\n"
          ]
        },
        {
          "data": {
            "image/png": "[encoded data removed]",
            "text/plain": [
              "<Figure size 432x288 with 1 Axes>"
            ]
          },
          "metadata": {},
          "output_type": "display_data"
        },
        {
          "metadata": {
            "tags": null
          },
          "name": "stdout",
          "output_type": "stream",
          "text": [
            "Data Matrix:\n",
            " [[ 2.110349    2.1493583   2.1071427  ...  2.885546    3.043147\n",
            "   2.7721417 ]\n",
            " [ 1.9838802   2.0206423   1.9804449  ...  1.600806    1.9541774\n",
            "   2.7886133 ]\n",
            " [ 0.18170007  0.15425824  0.28586188 ...  1.2635618   1.2002752\n",
            "   1.2238274 ]\n",
            " ...\n",
            " [ 0.27655163  0.25079533  0.25418743 ... -0.9044368  -0.82688415\n",
            "  -0.5550872 ]\n",
            " [ 0.19750866 -0.02272644  0.06414076 ... -0.31024462 -0.10648868\n",
            "  -0.20918716]\n",
            " [ 0.24493445  0.2186163   0.25418743 ... -0.92049605 -0.8771443\n",
            "  -0.83510154]] \n",
            "Data Matrix Shape:  (160, 10304)\n",
            "Labels Vector:\n",
            " [1 1 1 1 1 1 1 1 1 1 1 1 1 1 1 1 1 1 1 1 1 1 1 1 1 1 1 1 1 1 1 1 1 1 1 1 1\n",
            " 1 1 1 1 1 1 1 1 1 1 1 1 1 1 1 1 1 1 1 1 1 1 1 2 2 2 2 2 2 2 2 2 2 2 2 2 2\n",
            " 2 2 2 2 2 2 2 2 2 2 2 2 2 2 2 2 2 2 2 2 2 2 2 2 2 2 2 2 2 2 2 2 2 2 2 2 2\n",
            " 2 2 2 2 2 2 2 2 2 2 2 2 2 2 2 2 2 2 2 2 2 2 2 2 2 2 2 2 2 2 2 2 2 2 2 2 2\n",
            " 2 2 2 2 2 2 2 2 2 2 2 2]\n",
            "X Train Samples:\n",
            " 80 \n",
            "X Test Samples:\n",
            " 80\n",
            "Nonfaces : faces =  3 : 5\n",
            "First row of Sb\n",
            " [243022.03369141 243022.03369141 243022.03369141 ... 243022.03369141\n",
            " 243022.03369141 243022.03369141]\n",
            "First row of S\n",
            " [2.12983686 2.05587494 2.01784119 ... 1.10622833 1.18924496 1.14233552]\n"
          ]
        },
        {
          "metadata": {
            "tags": null
          },
          "name": "stderr",
          "output_type": "stream",
          "text": [
            "WARNING:matplotlib.legend:No artists with labels found to put in legend.  Note that artists whose label start with an underscore are ignored when legend() is called with no argument.\n"
          ]
        },
        {
          "metadata": {
            "tags": null
          },
          "name": "stdout",
          "output_type": "stream",
          "text": [
            "Dominant Eigon Vectors Count: 10304\n",
            "First row of eigen vectors\n",
            " [-0.00984934  0.0076848   0.00762222  0.00609697  0.00895023  0.00608356\n",
            " -0.00340974  0.00484912  0.0019882  -0.0038649   0.0063957   0.01130031\n",
            "  0.00315258  0.00373432 -0.01217331  0.00295134 -0.01292055 -0.01205507\n",
            " -0.00733255 -0.00313609 -0.00202046  0.00822708 -0.01438551  0.00631722\n",
            " -0.00310056  0.00376404  0.00469566 -0.00147249  0.01129875  0.01690431\n",
            " -0.00492726  0.00272468  0.00422905  0.01923831  0.0068973  -0.00493812\n",
            " -0.00113671 -0.00230632 -0.01337905]\n",
            "LDA Tuning :\n",
            "Accuracy Score when Knn = 1 :\n",
            " 0.975\n",
            "Accuracy Score when Knn = 3 :\n",
            " 0.9625\n",
            "Accuracy Score when Knn = 5 :\n",
            " 0.95\n",
            "Accuracy Score when Knn = 7 :\n",
            " 0.95\n"
          ]
        },
        {
          "data": {
            "image/png": "[encoded data removed]",
            "text/plain": [
              "<Figure size 432x288 with 1 Axes>"
            ]
          },
          "metadata": {},
          "output_type": "display_data"
        },
        {
          "metadata": {
            "tags": null
          },
          "name": "stdout",
          "output_type": "stream",
          "text": [
            "Data Matrix:\n",
            " [[ 2.3570933   2.3900921   2.3386598  ...  3.175783    3.3447797\n",
            "   3.0535247 ]\n",
            " [ 2.2171175   2.2489872   2.2005477  ...  1.7924299   2.1721673\n",
            "   3.0712483 ]\n",
            " [ 0.22246163  0.20296444  0.3532961  ...  1.4292998   1.360359\n",
            "   1.3875054 ]\n",
            " ...\n",
            " [ 0.3274435   0.30879322  0.31876802 ... -0.905108   -0.8225037\n",
            "  -0.52664435]\n",
            " [ 0.23995861  0.00894505  0.11159965 ... -0.2653073  -0.04677563\n",
            "  -0.1544486 ]\n",
            " [ 0.29244953  0.27351695  0.31876802 ... -0.9223999  -0.8766242\n",
            "  -0.82794577]] \n",
            "Data Matrix Shape:  (140, 10304)\n",
            "Labels Vector:\n",
            " [1 1 1 1 1 1 1 1 1 1 1 1 1 1 1 1 1 1 1 1 1 1 1 1 1 1 1 1 1 1 1 1 1 1 1 1 1\n",
            " 1 1 1 2 2 2 2 2 2 2 2 2 2 2 2 2 2 2 2 2 2 2 2 2 2 2 2 2 2 2 2 2 2 2 2 2 2\n",
            " 2 2 2 2 2 2 2 2 2 2 2 2 2 2 2 2 2 2 2 2 2 2 2 2 2 2 2 2 2 2 2 2 2 2 2 2 2\n",
            " 2 2 2 2 2 2 2 2 2 2 2 2 2 2 2 2 2 2 2 2 2 2 2 2 2 2 2 2 2]\n",
            "X Train Samples:\n",
            " 70 \n",
            "X Test Samples:\n",
            " 70\n",
            "Nonfaces : faces =  2 : 5\n",
            "First row of Sb\n",
            " [225855.98876953 225855.98876953 225855.98876953 ... 225855.98876953\n",
            " 225855.98876953 225855.98876953]\n",
            "First row of S\n",
            " [2.20992691 2.15946439 2.13008264 ... 1.30633844 1.52727866 1.48638522]\n"
          ]
        },
        {
          "output_type": "stream",
          "name": "stderr",
          "text": [
            "WARNING:matplotlib.legend:No artists with labels found to put in legend.  Note that artists whose label start with an underscore are ignored when legend() is called with no argument.\n"
          ]
        },
        {
          "output_type": "stream",
          "name": "stdout",
          "text": [
            "Dominant Eigon Vectors Count: 10304\n",
            "First row of eigen vectors\n",
            " [ 0.00934332 -0.00743519  0.00788475  0.00595549 -0.00741083  0.00855567\n",
            " -0.00752448 -0.00454397  0.00431348  0.00229701  0.00627406 -0.00981198\n",
            " -0.00630257  0.00529075 -0.01005781 -0.00932658 -0.01317454  0.01033063\n",
            "  0.00962328 -0.00539853  0.00625669 -0.00693753  0.00501348 -0.01103347\n",
            "  0.00504859  0.00635922 -0.00474805  0.00089981  0.01379198 -0.00635215\n",
            "  0.0064557   0.00557898 -0.00622507 -0.00689888  0.00981375 -0.00452373\n",
            " -0.00330815 -0.00177051  0.00372369]\n",
            "LDA Tuning :\n",
            "Accuracy Score when Knn = 1 :\n",
            " 0.9571428571428572\n",
            "Accuracy Score when Knn = 3 :\n",
            " 0.9142857142857143\n",
            "Accuracy Score when Knn = 5 :\n",
            " 0.8857142857142857\n",
            "Accuracy Score when Knn = 7 :\n",
            " 0.8857142857142857\n"
          ]
        },
        {
          "output_type": "display_data",
          "data": {
            "text/plain": [
              "<Figure size 432x288 with 1 Axes>"
            ],
            "image/png": "[encoded data removed]"
          },
          "metadata": {
            "needs_background": "light"
          }
        },
        {
          "output_type": "stream",
          "name": "stdout",
          "text": [
            "Data Matrix:\n",
            " [[ 2.5031533   2.560517    2.5256827  ...  3.4193296   3.654268\n",
            "   3.318555  ]\n",
            " [ 2.3566988   2.4115415   2.3793547  ...  1.9100388   2.357662\n",
            "   3.3380904 ]\n",
            " [ 0.26972055  0.2513962   0.42221737 ...  1.5138501   1.4600116\n",
            "   1.4822391 ]\n",
            " ...\n",
            " [ 0.3795615   0.36312786  0.38563535 ... -1.0330781  -0.9536704\n",
            "  -0.62757075]\n",
            " [ 0.2880274   0.04655485  0.16614328 ... -0.3350311  -0.0959156\n",
            "  -0.21732995]\n",
            " [ 0.34294787  0.32588398  0.38563535 ... -1.0519443  -1.0135138\n",
            "  -0.9596705 ]] \n",
            "Data Matrix Shape:  (120, 10304)\n",
            "Labels Vector:\n",
            " [1 1 1 1 1 1 1 1 1 1 1 1 1 1 1 1 1 1 1 1 2 2 2 2 2 2 2 2 2 2 2 2 2 2 2 2 2\n",
            " 2 2 2 2 2 2 2 2 2 2 2 2 2 2 2 2 2 2 2 2 2 2 2 2 2 2 2 2 2 2 2 2 2 2 2 2 2\n",
            " 2 2 2 2 2 2 2 2 2 2 2 2 2 2 2 2 2 2 2 2 2 2 2 2 2 2 2 2 2 2 2 2 2 2 2 2 2\n",
            " 2 2 2 2 2 2 2 2 2]\n",
            "X Train Samples:\n",
            " 60 \n",
            "X Test Samples:\n",
            " 60\n",
            "Nonfaces : faces =  1 : 5\n",
            "First row of Sb\n",
            " [298736.26831055 298736.26831055 298736.26831055 ... 298736.26831055\n",
            " 298736.26831055 298736.26831055]\n",
            "First row of S\n",
            " [2.20330358 2.20810401 2.23467616 ... 0.90348342 1.41275595 1.35701953]\n"
          ]
        }
      ],
      "source": [
        "#FacesآNonFaces Problem\n",
        "#First Trial : Equal face-nonface quantity\n",
        "data_matrix, labels = loadFacesNonFaces()\n",
        "x_train, x_test, y_train, y_test = even_odd_split(data_matrix, labels)\n",
        "execLDA(data_matrix, labels, x_train, y_train, x_test, y_test,1)\n",
        "\n",
        "#Decreasing nonfaces wrt faces quantity --> Accuracy increases\n",
        "for i in range(4,0,-1):\n",
        "  data_matrix, labels = loadFacesNonFaces(i*20)\n",
        "  x_train, x_test, y_train, y_test = even_odd_split(data_matrix, labels)\n",
        "  print(\"Nonfaces : faces = \",i,\": 5\")\n",
        "  execLDA(data_matrix, labels, x_train, y_train, x_test, y_test,1)\n",
        "\n",
        "#Increasing nonfaces wrt faces quantity --> Accuracy decreases\n",
        "data_matrix, labels = loadFacesNonFaces(faces_num=20)\n",
        "x_train, x_test, y_train, y_test = even_odd_split(data_matrix, labels)\n",
        "print(\"Nonfaces : faces = 5 : 1\")\n",
        "execLDA(data_matrix, labels, x_train, y_train, x_test, y_test,1)  "
      ]
    },
    {
      "cell_type": "markdown",
      "source": [
        "Trying out faces problem with more training samples"
      ],
      "metadata": {
        "id": "3h9DuI0FSSGm"
      }
    },
    {
      "cell_type": "code",
      "execution_count": null,
      "metadata": {
        "id": "06Ww5X7QB00Y",
        "colab": {
          "base_uri": "https://localhost:8080/",
          "height": 1000
        },
        "outputId": "a0ac73ca-c4ee-4c0b-8519-640d39a65a74"
      },
      "outputs": [
        {
          "metadata": {
            "tags": null
          },
          "name": "stdout",
          "output_type": "stream",
          "text": [
            "Data Matrix:\n",
            " [[-1.05126    -1.0250226  -1.150785   ... -0.6368793  -0.67224365\n",
            "  -0.6649038 ]\n",
            " [-0.7159075  -0.71676624 -0.6727558  ... -0.95670485 -0.94235665\n",
            "  -0.9378948 ]\n",
            " [-1.3027742  -1.1651392  -0.92583    ... -1.0206699  -1.122432\n",
            "  -1.0516411 ]\n",
            " ...\n",
            " [ 1.1005846   0.93660915  1.0706447  ... -0.87141806 -0.8298096\n",
            "  -0.8013993 ]\n",
            " [ 0.9329085   0.96463245  0.9581673  ...  0.25863227  0.40820822\n",
            "   0.22231707]\n",
            " [ 1.1005846   1.0767257   1.0706447  ... -0.87141806 -0.91984725\n",
            "  -0.9378948 ]] \n",
            "Data Matrix Shape:  (400, 10304)\n",
            "Labels Vector:\n",
            " [ 1  1  1  1  1  1  1  1  1  1  2  2  2  2  2  2  2  2  2  2  3  3  3  3\n",
            "  3  3  3  3  3  3  4  4  4  4  4  4  4  4  4  4  5  5  5  5  5  5  5  5\n",
            "  5  5  6  6  6  6  6  6  6  6  6  6  7  7  7  7  7  7  7  7  7  7  8  8\n",
            "  8  8  8  8  8  8  8  8  9  9  9  9  9  9  9  9  9  9 10 10 10 10 10 10\n",
            " 10 10 10 10 11 11 11 11 11 11 11 11 11 11 12 12 12 12 12 12 12 12 12 12\n",
            " 13 13 13 13 13 13 13 13 13 13 14 14 14 14 14 14 14 14 14 14 15 15 15 15\n",
            " 15 15 15 15 15 15 16 16 16 16 16 16 16 16 16 16 17 17 17 17 17 17 17 17\n",
            " 17 17 18 18 18 18 18 18 18 18 18 18 19 19 19 19 19 19 19 19 19 19 20 20\n",
            " 20 20 20 20 20 20 20 20 21 21 21 21 21 21 21 21 21 21 22 22 22 22 22 22\n",
            " 22 22 22 22 23 23 23 23 23 23 23 23 23 23 24 24 24 24 24 24 24 24 24 24\n",
            " 25 25 25 25 25 25 25 25 25 25 26 26 26 26 26 26 26 26 26 26 27 27 27 27\n",
            " 27 27 27 27 27 27 28 28 28 28 28 28 28 28 28 28 29 29 29 29 29 29 29 29\n",
            " 29 29 30 30 30 30 30 30 30 30 30 30 31 31 31 31 31 31 31 31 31 31 32 32\n",
            " 32 32 32 32 32 32 32 32 33 33 33 33 33 33 33 33 33 33 34 34 34 34 34 34\n",
            " 34 34 34 34 35 35 35 35 35 35 35 35 35 35 36 36 36 36 36 36 36 36 36 36\n",
            " 37 37 37 37 37 37 37 37 37 37 38 38 38 38 38 38 38 38 38 38 39 39 39 39\n",
            " 39 39 39 39 39 39 40 40 40 40 40 40 40 40 40 40]\n",
            "y Train Samples:\n",
            " [ 1  1  1  1  1  1  1  2  2  2  2  2  2  2  3  3  3  3  3  3  3  4  4  4\n",
            "  4  4  4  4  5  5  5  5  5  5  5  6  6  6  6  6  6  6  7  7  7  7  7  7\n",
            "  7  8  8  8  8  8  8  8  9  9  9  9  9  9  9 10 10 10 10 10 10 10 11 11\n",
            " 11 11 11 11 11 12 12 12 12 12 12 12 13 13 13 13 13 13 13 14 14 14 14 14\n",
            " 14 14 15 15 15 15 15 15 15 16 16 16 16 16 16 16 17 17 17 17 17 17 17 18\n",
            " 18 18 18 18 18 18 19 19 19 19 19 19 19 20 20 20 20 20 20 20 21 21 21 21\n",
            " 21 21 21 22 22 22 22 22 22 22 23 23 23 23 23 23 23 24 24 24 24 24 24 24\n",
            " 25 25 25 25 25 25 25 26 26 26 26 26 26 26 27 27 27 27 27 27 27 28 28 28\n",
            " 28 28 28 28 29 29 29 29 29 29 29 30 30 30 30 30 30 30 31 31 31 31 31 31\n",
            " 31 32 32 32 32 32 32 32 33 33 33 33 33 33 33 34 34 34 34 34 34 34 35 35\n",
            " 35 35 35 35 35 36 36 36 36 36 36 36 37 37 37 37 37 37 37 38 38 38 38 38\n",
            " 38 38 39 39 39 39 39 39 39 40 40 40 40 40 40 40] \n",
            "y Test Samples:\n",
            " [ 1  1  1  2  2  2  3  3  3  4  4  4  5  5  5  6  6  6  7  7  7  8  8  8\n",
            "  9  9  9 10 10 10 11 11 11 12 12 12 13 13 13 14 14 14 15 15 15 16 16 16\n",
            " 17 17 17 18 18 18 19 19 19 20 20 20 21 21 21 22 22 22 23 23 23 24 24 24\n",
            " 25 25 25 26 26 26 27 27 27 28 28 28 29 29 29 30 30 30 31 31 31 32 32 32\n",
            " 33 33 33 34 34 34 35 35 35 36 36 36 37 37 37 38 38 38 39 39 39 40 40 40]\n",
            "PCA Tuning for Alpha =  0.8 : \n",
            "Accuracy Score when Knn = 1 :\n",
            " 0.9666666666666667\n"
          ]
        },
        {
          "metadata": {
            "tags": null
          },
          "name": "stderr",
          "output_type": "stream",
          "text": [
            "WARNING:matplotlib.legend:No artists with labels found to put in legend.  Note that artists whose label start with an underscore are ignored when legend() is called with no argument.\n"
          ]
        },
        {
          "metadata": {
            "tags": null
          },
          "name": "stdout",
          "output_type": "stream",
          "text": [
            "Accuracy Score when Knn = 3 :\n",
            " 0.9333333333333333\n",
            "Accuracy Score when Knn = 5 :\n",
            " 0.9166666666666666\n",
            "Accuracy Score when Knn = 7 :\n",
            " 0.875\n"
          ]
        },
        {
          "data": {
            "image/png": "[encoded data removed]",
            "text/plain": [
              "<Figure size 432x288 with 1 Axes>"
            ]
          },
          "metadata": {},
          "output_type": "display_data"
        },
        {
          "metadata": {
            "tags": null
          },
          "name": "stderr",
          "output_type": "stream",
          "text": [
            "WARNING:matplotlib.legend:No artists with labels found to put in legend.  Note that artists whose label start with an underscore are ignored when legend() is called with no argument.\n"
          ]
        },
        {
          "metadata": {
            "tags": null
          },
          "name": "stdout",
          "output_type": "stream",
          "text": [
            "PCA Tuning for Alpha =  0.85 : \n",
            "Accuracy Score when Knn = 1 :\n",
            " 0.9666666666666667\n",
            "Accuracy Score when Knn = 3 :\n",
            " 0.9333333333333333\n",
            "Accuracy Score when Knn = 5 :\n",
            " 0.9166666666666666\n",
            "Accuracy Score when Knn = 7 :\n",
            " 0.8416666666666667\n"
          ]
        },
        {
          "data": {
            "image/png": "[encoded data removed]",
            "text/plain": [
              "<Figure size 432x288 with 1 Axes>"
            ]
          },
          "metadata": {},
          "output_type": "display_data"
        },
        {
          "metadata": {
            "tags": null
          },
          "name": "stderr",
          "output_type": "stream",
          "text": [
            "WARNING:matplotlib.legend:No artists with labels found to put in legend.  Note that artists whose label start with an underscore are ignored when legend() is called with no argument.\n"
          ]
        },
        {
          "metadata": {
            "tags": null
          },
          "name": "stdout",
          "output_type": "stream",
          "text": [
            "PCA Tuning for Alpha =  0.9 : \n",
            "Accuracy Score when Knn = 1 :\n",
            " 0.9666666666666667\n",
            "Accuracy Score when Knn = 3 :\n",
            " 0.9333333333333333\n",
            "Accuracy Score when Knn = 5 :\n",
            " 0.9\n",
            "Accuracy Score when Knn = 7 :\n",
            " 0.8333333333333334\n"
          ]
        },
        {
          "data": {
            "image/png": "[encoded data removed]",
            "text/plain": [
              "<Figure size 432x288 with 1 Axes>"
            ]
          },
          "metadata": {},
          "output_type": "display_data"
        },
        {
          "output_type": "stream",
          "name": "stderr",
          "text": [
            "WARNING:matplotlib.legend:No artists with labels found to put in legend.  Note that artists whose label start with an underscore are ignored when legend() is called with no argument.\n"
          ]
        },
        {
          "output_type": "stream",
          "name": "stdout",
          "text": [
            "PCA Tuning for Alpha =  0.95 : \n",
            "Accuracy Score when Knn = 1 :\n",
            " 0.95\n",
            "Accuracy Score when Knn = 3 :\n",
            " 0.9333333333333333\n",
            "Accuracy Score when Knn = 5 :\n",
            " 0.9166666666666666\n",
            "Accuracy Score when Knn = 7 :\n",
            " 0.85\n"
          ]
        },
        {
          "output_type": "display_data",
          "data": {
            "text/plain": [
              "<Figure size 432x288 with 1 Axes>"
            ],
            "image/png": "[encoded data removed]"
          },
          "metadata": {
            "needs_background": "light"
          }
        },
        {
          "output_type": "stream",
          "name": "stdout",
          "text": [
            "best accuracy  0.9666666666666667  for alpha = 0.8\n",
            "First row of Sb\n",
            " [2396490.40039062 2396490.40039062 2396490.40039062 ... 2396490.40039062\n",
            " 2396490.40039062 2396490.40039062]\n",
            "First row of S\n",
            " [5.37142111 5.23854802 5.18057539 ... 0.26156132 0.1972977  0.54414663]\n"
          ]
        }
      ],
      "source": [
        "#Bonus : a\n",
        "#Faces Problem\n",
        "data_matrix, labels = loadFaces()\n",
        "x_train, x_test, y_train, y_test = split(0.7,data_matrix, labels)\n",
        "\n",
        "execPCA(data_matrix, x_train, y_train, x_test, y_test)\n",
        "\n",
        "execLDA(data_matrix, labels, x_train, y_train, x_test, y_test)"
      ]
    },
    {
      "cell_type": "markdown",
      "source": [
        "SVD is performed on the data matrix, which is typically centered by subtracting the mean of each feature. The resulting decomposition consists of three matrices: U, Σ, and V^T, where U and V^T are orthogonal matrices and Σ is a diagonal matrix containing the singular values of the data.\n",
        "\n",
        "The principal components can then be calculated using the first k columns of U, where k is the desired number of principal components. These columns correspond to the left singular vectors of the data and represent the directions of maximum variance in the data."
      ],
      "metadata": {
        "id": "KvvS8oHoSiUT"
      }
    },
    {
      "cell_type": "code",
      "execution_count": null,
      "metadata": {
        "id": "VOPeNCgLbPbq"
      },
      "outputs": [],
      "source": [
        "def _PCAfitSVD(data,alpha):\n",
        "  _mean = np.mean(data,axis=0)\n",
        "  Z = data - _mean\n",
        "  U, s, Vt = np.linalg.svd(Z)\n",
        "  explained_variance_ratio = (s ** 2) / np.sum(s ** 2)\n",
        "  num_components = np.argmax(np.cumsum(explained_variance_ratio) >= alpha) + 1\n",
        "  X_reduced = Z.dot(Vt.T[:, :num_components])\n",
        "  return _mean,X_reduced"
      ]
    },
    {
      "cell_type": "markdown",
      "source": [
        "Regularized LDA (Linear Discriminant Analysis) is an extension of traditional LDA that incorporates regularization to improve the performance of the algorithm and prevent overfitting."
      ],
      "metadata": {
        "id": "fIV0IUBSTwGJ"
      }
    },
    {
      "cell_type": "code",
      "execution_count": null,
      "metadata": {
        "id": "zEmLfeC6dkrV"
      },
      "outputs": [],
      "source": [
        "def regularizedLDA(x_train, y_train,tol=10^-6):\n",
        "  n = x_train.shape[0]\n",
        "  oldEVR = newEVR = 0\n",
        "  for n_components in range(1, n+1):\n",
        "    lda = LDA(solver='lsqr', n_components=n_components)\n",
        "    lda.fit(x_train, y_train)\n",
        "    newEVR  = lda.explained_variance_ratio_\n",
        "    if abs(newEVR-oldEVR)<tol:\n",
        "      n = newEVR\n",
        "      break\n",
        "    oldEVR = newEVR\n",
        "  return lda.transform(x_train)[:, :n]\n"
      ]
    },
    {
      "cell_type": "code",
      "execution_count": null,
      "metadata": {
        "id": "-UPlJ0rCCogK"
      },
      "outputs": [],
      "source": [
        "#Bonus : b\n",
        "data_matrix, labels = loadFaces()\n",
        "x_train, x_test, y_train, y_test = even_odd_split(data_matrix, labels)\n",
        "\n",
        "#PCA Using Single Value Decomposition\n",
        "execPCA(data_matrix, x_train, y_train, x_test, y_test,PCAfitter=_PCAfitSVD)\n",
        "\n",
        "#Regularized LDA \n",
        "x_train_reduced = regularizedLDA(x_train,y_train)\n",
        "x_test_reduced = regularizedLDA(x_test,y_test)\n",
        "print(\"Regularized LDA Tuning :\")\n",
        "classTuning(x_train_reduced,y_train,x_test_reduced,y_test)"
      ]
    }
  ],
  "metadata": {
    "accelerator": "GPU",
    "colab": {
      "provenance": [],
      "include_colab_link": true
    },
    "gpuClass": "standard",
    "kernelspec": {
      "display_name": "Python 3",
      "name": "python3"
    },
    "language_info": {
      "name": "python"
    }
  },
  "nbformat": 4,
  "nbformat_minor": 0
}